{
 "cells": [
  {
   "metadata": {},
   "cell_type": "markdown",
   "source": [
    "机器学习作业2 线性回归多变量\n",
    "此处为多变量回归，有两个特征为population和size."
   ],
   "id": "d93a5bc259df057"
  },
  {
   "metadata": {
    "ExecuteTime": {
     "end_time": "2025-09-23T03:12:41.063470Z",
     "start_time": "2025-09-23T03:12:41.059687Z"
    }
   },
   "cell_type": "code",
   "source": [
    "import numpy as np\n",
    "import pandas as pd\n",
    "import matplotlib.pyplot as plt\n",
    "from numpy.ma.core import power"
   ],
   "id": "f538b0521fe84576",
   "outputs": [],
   "execution_count": 63
  },
  {
   "metadata": {
    "ExecuteTime": {
     "end_time": "2025-09-23T03:12:41.140708Z",
     "start_time": "2025-09-23T03:12:41.136Z"
    }
   },
   "cell_type": "code",
   "source": [
    "path = \"ex1data2.txt\"\n",
    "data = pd.read_csv(path,header=None,names=['population','size','profit'])\n",
    "data.head()"
   ],
   "id": "e0c16b7e40fe7133",
   "outputs": [
    {
     "data": {
      "text/plain": [
       "   population  size  profit\n",
       "0        2104     3  399900\n",
       "1        1600     3  329900\n",
       "2        2400     3  369000\n",
       "3        1416     2  232000\n",
       "4        3000     4  539900"
      ],
      "text/html": [
       "<div>\n",
       "<style scoped>\n",
       "    .dataframe tbody tr th:only-of-type {\n",
       "        vertical-align: middle;\n",
       "    }\n",
       "\n",
       "    .dataframe tbody tr th {\n",
       "        vertical-align: top;\n",
       "    }\n",
       "\n",
       "    .dataframe thead th {\n",
       "        text-align: right;\n",
       "    }\n",
       "</style>\n",
       "<table border=\"1\" class=\"dataframe\">\n",
       "  <thead>\n",
       "    <tr style=\"text-align: right;\">\n",
       "      <th></th>\n",
       "      <th>population</th>\n",
       "      <th>size</th>\n",
       "      <th>profit</th>\n",
       "    </tr>\n",
       "  </thead>\n",
       "  <tbody>\n",
       "    <tr>\n",
       "      <th>0</th>\n",
       "      <td>2104</td>\n",
       "      <td>3</td>\n",
       "      <td>399900</td>\n",
       "    </tr>\n",
       "    <tr>\n",
       "      <th>1</th>\n",
       "      <td>1600</td>\n",
       "      <td>3</td>\n",
       "      <td>329900</td>\n",
       "    </tr>\n",
       "    <tr>\n",
       "      <th>2</th>\n",
       "      <td>2400</td>\n",
       "      <td>3</td>\n",
       "      <td>369000</td>\n",
       "    </tr>\n",
       "    <tr>\n",
       "      <th>3</th>\n",
       "      <td>1416</td>\n",
       "      <td>2</td>\n",
       "      <td>232000</td>\n",
       "    </tr>\n",
       "    <tr>\n",
       "      <th>4</th>\n",
       "      <td>3000</td>\n",
       "      <td>4</td>\n",
       "      <td>539900</td>\n",
       "    </tr>\n",
       "  </tbody>\n",
       "</table>\n",
       "</div>"
      ]
     },
     "execution_count": 64,
     "metadata": {},
     "output_type": "execute_result"
    }
   ],
   "execution_count": 64
  },
  {
   "metadata": {
    "ExecuteTime": {
     "end_time": "2025-09-23T03:12:41.249070Z",
     "start_time": "2025-09-23T03:12:41.247122Z"
    }
   },
   "cell_type": "code",
   "source": [
    "def cal_cost(X, Y,theta):\n",
    "    error = np.power((X*theta.T - Y),2)\n",
    "    return np.sum(error)/(2*len(X))"
   ],
   "id": "8447bf05ed5a98fa",
   "outputs": [],
   "execution_count": 65
  },
  {
   "metadata": {
    "ExecuteTime": {
     "end_time": "2025-09-23T03:12:41.359242Z",
     "start_time": "2025-09-23T03:12:41.355976Z"
    }
   },
   "cell_type": "code",
   "source": [
    "def gredience(X,Y,theta,times,alpha):\n",
    "    temp_w = np.matrix(np.zeros(theta.shape))\n",
    "    param_num = int(theta.shape[1])\n",
    "    cost = np.zeros(times)\n",
    "\n",
    "    for i in range(times):\n",
    "        error = (X*theta.T) - y\n",
    "        for j in range(param_num):\n",
    "            term = np.multiply(error,X[:,j])\n",
    "            temp_w[0,j] = theta[0,j] - ((alpha/len(X))*np.sum(term))\n",
    "        theta = temp_w\n",
    "        cost[i] = cal_cost(X,Y,theta)\n",
    "\n",
    "    return theta,cost"
   ],
   "id": "cf5e6e0b045ffda3",
   "outputs": [],
   "execution_count": 66
  },
  {
   "metadata": {
    "ExecuteTime": {
     "end_time": "2025-09-23T03:12:41.484158Z",
     "start_time": "2025-09-23T03:12:41.475601Z"
    }
   },
   "cell_type": "code",
   "source": "data.describe()",
   "id": "1212ca98432fbe88",
   "outputs": [
    {
     "data": {
      "text/plain": [
       "        population       size         profit\n",
       "count    47.000000  47.000000      47.000000\n",
       "mean   2000.680851   3.170213  340412.659574\n",
       "std     794.702354   0.760982  125039.899586\n",
       "min     852.000000   1.000000  169900.000000\n",
       "25%    1432.000000   3.000000  249900.000000\n",
       "50%    1888.000000   3.000000  299900.000000\n",
       "75%    2269.000000   4.000000  384450.000000\n",
       "max    4478.000000   5.000000  699900.000000"
      ],
      "text/html": [
       "<div>\n",
       "<style scoped>\n",
       "    .dataframe tbody tr th:only-of-type {\n",
       "        vertical-align: middle;\n",
       "    }\n",
       "\n",
       "    .dataframe tbody tr th {\n",
       "        vertical-align: top;\n",
       "    }\n",
       "\n",
       "    .dataframe thead th {\n",
       "        text-align: right;\n",
       "    }\n",
       "</style>\n",
       "<table border=\"1\" class=\"dataframe\">\n",
       "  <thead>\n",
       "    <tr style=\"text-align: right;\">\n",
       "      <th></th>\n",
       "      <th>population</th>\n",
       "      <th>size</th>\n",
       "      <th>profit</th>\n",
       "    </tr>\n",
       "  </thead>\n",
       "  <tbody>\n",
       "    <tr>\n",
       "      <th>count</th>\n",
       "      <td>47.000000</td>\n",
       "      <td>47.000000</td>\n",
       "      <td>47.000000</td>\n",
       "    </tr>\n",
       "    <tr>\n",
       "      <th>mean</th>\n",
       "      <td>2000.680851</td>\n",
       "      <td>3.170213</td>\n",
       "      <td>340412.659574</td>\n",
       "    </tr>\n",
       "    <tr>\n",
       "      <th>std</th>\n",
       "      <td>794.702354</td>\n",
       "      <td>0.760982</td>\n",
       "      <td>125039.899586</td>\n",
       "    </tr>\n",
       "    <tr>\n",
       "      <th>min</th>\n",
       "      <td>852.000000</td>\n",
       "      <td>1.000000</td>\n",
       "      <td>169900.000000</td>\n",
       "    </tr>\n",
       "    <tr>\n",
       "      <th>25%</th>\n",
       "      <td>1432.000000</td>\n",
       "      <td>3.000000</td>\n",
       "      <td>249900.000000</td>\n",
       "    </tr>\n",
       "    <tr>\n",
       "      <th>50%</th>\n",
       "      <td>1888.000000</td>\n",
       "      <td>3.000000</td>\n",
       "      <td>299900.000000</td>\n",
       "    </tr>\n",
       "    <tr>\n",
       "      <th>75%</th>\n",
       "      <td>2269.000000</td>\n",
       "      <td>4.000000</td>\n",
       "      <td>384450.000000</td>\n",
       "    </tr>\n",
       "    <tr>\n",
       "      <th>max</th>\n",
       "      <td>4478.000000</td>\n",
       "      <td>5.000000</td>\n",
       "      <td>699900.000000</td>\n",
       "    </tr>\n",
       "  </tbody>\n",
       "</table>\n",
       "</div>"
      ]
     },
     "execution_count": 67,
     "metadata": {},
     "output_type": "execute_result"
    }
   ],
   "execution_count": 67
  },
  {
   "metadata": {},
   "cell_type": "markdown",
   "source": "由于这个数据数量级差距太大，要进行特征归一化，就是将每个特征减去他们的均值再和他们的标准差做比值即可",
   "id": "539bd93aac29175a"
  },
  {
   "metadata": {
    "ExecuteTime": {
     "end_time": "2025-09-23T03:12:41.696693Z",
     "start_time": "2025-09-23T03:12:41.688643Z"
    }
   },
   "cell_type": "code",
   "source": [
    "data = (data - data.mean()) / data.std()\n",
    "data.insert(0,'ones',1)#先插入初始的b\n",
    "data.head()\n",
    "data.describe()"
   ],
   "id": "da877f8b9c55e023",
   "outputs": [
    {
     "data": {
      "text/plain": [
       "       ones    population          size        profit\n",
       "count  47.0  4.700000e+01  4.700000e+01  4.700000e+01\n",
       "mean    1.0  3.779483e-17  2.746030e-16 -9.684924e-17\n",
       "std     0.0  1.000000e+00  1.000000e+00  1.000000e+00\n",
       "min     1.0 -1.445423e+00 -2.851859e+00 -1.363666e+00\n",
       "25%     1.0 -7.155897e-01 -2.236752e-01 -7.238702e-01\n",
       "50%     1.0 -1.417900e-01 -2.236752e-01 -3.239979e-01\n",
       "75%     1.0  3.376348e-01  1.090417e+00  3.521863e-01\n",
       "max     1.0  3.117292e+00  2.404508e+00  2.874981e+00"
      ],
      "text/html": [
       "<div>\n",
       "<style scoped>\n",
       "    .dataframe tbody tr th:only-of-type {\n",
       "        vertical-align: middle;\n",
       "    }\n",
       "\n",
       "    .dataframe tbody tr th {\n",
       "        vertical-align: top;\n",
       "    }\n",
       "\n",
       "    .dataframe thead th {\n",
       "        text-align: right;\n",
       "    }\n",
       "</style>\n",
       "<table border=\"1\" class=\"dataframe\">\n",
       "  <thead>\n",
       "    <tr style=\"text-align: right;\">\n",
       "      <th></th>\n",
       "      <th>ones</th>\n",
       "      <th>population</th>\n",
       "      <th>size</th>\n",
       "      <th>profit</th>\n",
       "    </tr>\n",
       "  </thead>\n",
       "  <tbody>\n",
       "    <tr>\n",
       "      <th>count</th>\n",
       "      <td>47.0</td>\n",
       "      <td>4.700000e+01</td>\n",
       "      <td>4.700000e+01</td>\n",
       "      <td>4.700000e+01</td>\n",
       "    </tr>\n",
       "    <tr>\n",
       "      <th>mean</th>\n",
       "      <td>1.0</td>\n",
       "      <td>3.779483e-17</td>\n",
       "      <td>2.746030e-16</td>\n",
       "      <td>-9.684924e-17</td>\n",
       "    </tr>\n",
       "    <tr>\n",
       "      <th>std</th>\n",
       "      <td>0.0</td>\n",
       "      <td>1.000000e+00</td>\n",
       "      <td>1.000000e+00</td>\n",
       "      <td>1.000000e+00</td>\n",
       "    </tr>\n",
       "    <tr>\n",
       "      <th>min</th>\n",
       "      <td>1.0</td>\n",
       "      <td>-1.445423e+00</td>\n",
       "      <td>-2.851859e+00</td>\n",
       "      <td>-1.363666e+00</td>\n",
       "    </tr>\n",
       "    <tr>\n",
       "      <th>25%</th>\n",
       "      <td>1.0</td>\n",
       "      <td>-7.155897e-01</td>\n",
       "      <td>-2.236752e-01</td>\n",
       "      <td>-7.238702e-01</td>\n",
       "    </tr>\n",
       "    <tr>\n",
       "      <th>50%</th>\n",
       "      <td>1.0</td>\n",
       "      <td>-1.417900e-01</td>\n",
       "      <td>-2.236752e-01</td>\n",
       "      <td>-3.239979e-01</td>\n",
       "    </tr>\n",
       "    <tr>\n",
       "      <th>75%</th>\n",
       "      <td>1.0</td>\n",
       "      <td>3.376348e-01</td>\n",
       "      <td>1.090417e+00</td>\n",
       "      <td>3.521863e-01</td>\n",
       "    </tr>\n",
       "    <tr>\n",
       "      <th>max</th>\n",
       "      <td>1.0</td>\n",
       "      <td>3.117292e+00</td>\n",
       "      <td>2.404508e+00</td>\n",
       "      <td>2.874981e+00</td>\n",
       "    </tr>\n",
       "  </tbody>\n",
       "</table>\n",
       "</div>"
      ]
     },
     "execution_count": 68,
     "metadata": {},
     "output_type": "execute_result"
    }
   ],
   "execution_count": 68
  },
  {
   "metadata": {
    "data_wrangler": {
     "input_variable_name": "dw_1",
     "variable_name": "dw_out_1"
    },
    "ExecuteTime": {
     "end_time": "2025-09-23T03:12:42.058940Z",
     "start_time": "2025-09-23T03:12:42.054016Z"
    }
   },
   "cell_type": "code",
   "source": [
    "cols = data.shape[1]\n",
    "X = data.iloc[:,0:cols-1]\n",
    "Y = data.iloc[:,cols-1:cols]\n",
    "X.head()"
   ],
   "id": "df0e175dd8592432",
   "outputs": [
    {
     "data": {
      "text/plain": [
       "   ones  population      size\n",
       "0     1    0.130010 -0.223675\n",
       "1     1   -0.504190 -0.223675\n",
       "2     1    0.502476 -0.223675\n",
       "3     1   -0.735723 -1.537767\n",
       "4     1    1.257476  1.090417"
      ],
      "text/html": [
       "<div>\n",
       "<style scoped>\n",
       "    .dataframe tbody tr th:only-of-type {\n",
       "        vertical-align: middle;\n",
       "    }\n",
       "\n",
       "    .dataframe tbody tr th {\n",
       "        vertical-align: top;\n",
       "    }\n",
       "\n",
       "    .dataframe thead th {\n",
       "        text-align: right;\n",
       "    }\n",
       "</style>\n",
       "<table border=\"1\" class=\"dataframe\">\n",
       "  <thead>\n",
       "    <tr style=\"text-align: right;\">\n",
       "      <th></th>\n",
       "      <th>ones</th>\n",
       "      <th>population</th>\n",
       "      <th>size</th>\n",
       "    </tr>\n",
       "  </thead>\n",
       "  <tbody>\n",
       "    <tr>\n",
       "      <th>0</th>\n",
       "      <td>1</td>\n",
       "      <td>0.130010</td>\n",
       "      <td>-0.223675</td>\n",
       "    </tr>\n",
       "    <tr>\n",
       "      <th>1</th>\n",
       "      <td>1</td>\n",
       "      <td>-0.504190</td>\n",
       "      <td>-0.223675</td>\n",
       "    </tr>\n",
       "    <tr>\n",
       "      <th>2</th>\n",
       "      <td>1</td>\n",
       "      <td>0.502476</td>\n",
       "      <td>-0.223675</td>\n",
       "    </tr>\n",
       "    <tr>\n",
       "      <th>3</th>\n",
       "      <td>1</td>\n",
       "      <td>-0.735723</td>\n",
       "      <td>-1.537767</td>\n",
       "    </tr>\n",
       "    <tr>\n",
       "      <th>4</th>\n",
       "      <td>1</td>\n",
       "      <td>1.257476</td>\n",
       "      <td>1.090417</td>\n",
       "    </tr>\n",
       "  </tbody>\n",
       "</table>\n",
       "</div>"
      ]
     },
     "execution_count": 69,
     "metadata": {},
     "output_type": "execute_result"
    }
   ],
   "execution_count": 69
  },
  {
   "metadata": {
    "ExecuteTime": {
     "end_time": "2025-09-23T03:12:42.353807Z",
     "start_time": "2025-09-23T03:12:42.348451Z"
    }
   },
   "cell_type": "code",
   "source": "Y.head()",
   "id": "6ec7f3f6aaf2d083",
   "outputs": [
    {
     "data": {
      "text/plain": [
       "     profit\n",
       "0  0.475747\n",
       "1 -0.084074\n",
       "2  0.228626\n",
       "3 -0.867025\n",
       "4  1.595389"
      ],
      "text/html": [
       "<div>\n",
       "<style scoped>\n",
       "    .dataframe tbody tr th:only-of-type {\n",
       "        vertical-align: middle;\n",
       "    }\n",
       "\n",
       "    .dataframe tbody tr th {\n",
       "        vertical-align: top;\n",
       "    }\n",
       "\n",
       "    .dataframe thead th {\n",
       "        text-align: right;\n",
       "    }\n",
       "</style>\n",
       "<table border=\"1\" class=\"dataframe\">\n",
       "  <thead>\n",
       "    <tr style=\"text-align: right;\">\n",
       "      <th></th>\n",
       "      <th>profit</th>\n",
       "    </tr>\n",
       "  </thead>\n",
       "  <tbody>\n",
       "    <tr>\n",
       "      <th>0</th>\n",
       "      <td>0.475747</td>\n",
       "    </tr>\n",
       "    <tr>\n",
       "      <th>1</th>\n",
       "      <td>-0.084074</td>\n",
       "    </tr>\n",
       "    <tr>\n",
       "      <th>2</th>\n",
       "      <td>0.228626</td>\n",
       "    </tr>\n",
       "    <tr>\n",
       "      <th>3</th>\n",
       "      <td>-0.867025</td>\n",
       "    </tr>\n",
       "    <tr>\n",
       "      <th>4</th>\n",
       "      <td>1.595389</td>\n",
       "    </tr>\n",
       "  </tbody>\n",
       "</table>\n",
       "</div>"
      ]
     },
     "execution_count": 70,
     "metadata": {},
     "output_type": "execute_result"
    }
   ],
   "execution_count": 70
  },
  {
   "metadata": {},
   "cell_type": "markdown",
   "source": "一样的代价函数应该为numpy矩阵，要先对X和Y进行转换，才能使用他们，这里其实为多变量回归，先初始化所有参数，但是要明确参数大小，这里参数大小应该为1*len(x)的行矩阵",
   "id": "36defd7059a7f871"
  },
  {
   "metadata": {
    "ExecuteTime": {
     "end_time": "2025-09-23T03:12:42.692277Z",
     "start_time": "2025-09-23T03:12:42.689853Z"
    }
   },
   "cell_type": "code",
   "source": [
    "X = np.matrix(X.values)\n",
    "Y = np.matrix(Y.values)\n",
    "theta = np.matrix(np.array([0,0,0]))"
   ],
   "id": "d489bcc1044deb26",
   "outputs": [],
   "execution_count": 71
  },
  {
   "metadata": {
    "ExecuteTime": {
     "end_time": "2025-09-23T03:12:42.804480Z",
     "start_time": "2025-09-23T03:12:42.801987Z"
    }
   },
   "cell_type": "code",
   "source": [
    "print(X.shape)\n",
    "print(Y.shape)\n",
    "print(theta.shape)"
   ],
   "id": "112609139893932f",
   "outputs": [
    {
     "name": "stdout",
     "output_type": "stream",
     "text": [
      "(47, 3)\n",
      "(47, 1)\n",
      "(1, 3)\n"
     ]
    }
   ],
   "execution_count": 72
  },
  {
   "metadata": {
    "ExecuteTime": {
     "end_time": "2025-09-23T03:12:42.911892Z",
     "start_time": "2025-09-23T03:12:42.855277Z"
    }
   },
   "cell_type": "code",
   "source": [
    "data.plot(kind='scatter',x='population',y='profit',figsize=(12,8))\n",
    "plt.show()"
   ],
   "id": "39067123d1dc900",
   "outputs": [
    {
     "data": {
      "text/plain": [
       "<Figure size 1200x800 with 1 Axes>"
      ],
      "image/png": "[encoded data removed]"
     },
     "metadata": {},
     "output_type": "display_data"
    }
   ],
   "execution_count": 73
  },
  {
   "metadata": {
    "ExecuteTime": {
     "end_time": "2025-09-23T03:12:42.979406Z",
     "start_time": "2025-09-23T03:12:42.920573Z"
    }
   },
   "cell_type": "code",
   "source": [
    "data.plot(kind='scatter',x='size',y='profit',figsize=(12,8))\n",
    "plt.show()"
   ],
   "id": "f798ed9cefd5fada",
   "outputs": [
    {
     "data": {
      "text/plain": [
       "<Figure size 1200x800 with 1 Axes>"
      ],
      "image/png": "[encoded data removed]"
     },
     "metadata": {},
     "output_type": "display_data"
    }
   ],
   "execution_count": 74
  },
  {
   "metadata": {
    "ExecuteTime": {
     "end_time": "2025-09-23T03:12:42.987515Z",
     "start_time": "2025-09-23T03:12:42.985818Z"
    }
   },
   "cell_type": "code",
   "source": [
    "alpha = 0.01\n",
    "times = 1100"
   ],
   "id": "51697dcc62eec550",
   "outputs": [],
   "execution_count": 75
  },
  {
   "metadata": {
    "ExecuteTime": {
     "end_time": "2025-09-23T03:12:43.697046Z",
     "start_time": "2025-09-23T03:12:43.036418Z"
    }
   },
   "cell_type": "code",
   "source": [
    "newTheta,cost = gredience(X,Y,theta,times,alpha)\n",
    "print(newTheta)\n",
    "print(cost)"
   ],
   "id": "7d865cf0834c1d2b",
   "outputs": [
    {
     "name": "stderr",
     "output_type": "stream",
     "text": [
      "/home/ldq/.local/lib/python3.11/site-packages/numpy/core/fromnumeric.py:86: FutureWarning: The behavior of DataFrame.sum with axis=None is deprecated, in a future version this will reduce over both axes and return a scalar. To retain the old behavior, pass axis=0 (or do not pass axis)\n",
      "  return reduction(axis=axis, out=out, **passkwargs)\n",
      "/tmp/ipykernel_8918/2891690957.py:10: FutureWarning: Calling float on a single element Series is deprecated and will raise a TypeError in the future. Use float(ser.iloc[0]) instead\n",
      "  temp_w[0,j] = theta[0,j] - ((alpha/len(X))*np.sum(term))\n"
     ]
    },
    {
     "name": "stdout",
     "output_type": "stream",
     "text": [
      "[[-1.10886477e-16  8.80698834e-01 -4.91117027e-02]]\n",
      "[0.4805491  0.47198588 0.46366462 ... 0.13069373 0.13069367 0.1306936 ]\n"
     ]
    }
   ],
   "execution_count": 76
  },
  {
   "metadata": {
    "ExecuteTime": {
     "end_time": "2025-09-23T03:12:43.778224Z",
     "start_time": "2025-09-23T03:12:43.704119Z"
    }
   },
   "cell_type": "code",
   "source": [
    "fig,ax = plt.subplots(figsize = (12,8))\n",
    "ax.plot(np.arange(times),cost,'r',label = 'Cost')\n",
    "ax.set_xlabel('Times')\n",
    "ax.set_ylabel('Cost')\n",
    "ax.set_title('Cost vs Times')\n",
    "plt.show()"
   ],
   "id": "df4aa521b6daad7b",
   "outputs": [
    {
     "data": {
      "text/plain": [
       "<Figure size 1200x800 with 1 Axes>"
      ],
      "image/png": "[encoded data removed]"
     },
     "metadata": {},
     "output_type": "display_data"
    }
   ],
   "execution_count": 77
  }
 ],
 "metadata": {
  "kernelspec": {
   "display_name": "Python 3",
   "language": "python",
   "name": "python3"
  },
  "language_info": {
   "codemirror_mode": {
    "name": "ipython",
    "version": 2
   },
   "file_extension": ".py",
   "mimetype": "text/x-python",
   "name": "python",
   "nbconvert_exporter": "python",
   "pygments_lexer": "ipython2",
   "version": "2.7.6"
  }
 },
 "nbformat": 4,
 "nbformat_minor": 5
}
