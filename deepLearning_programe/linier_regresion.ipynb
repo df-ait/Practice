{
 "cells": [
  {
   "metadata": {},
   "cell_type": "raw",
   "source": [
    "机器学习作业1  线性回归\n",
    "此处为单变量线性回归，只有population一个变量(特征)，要进行拟合预测的是profit值，为了简便，会在population之前再加上一列全为1的数来简化计算，表达式中就不用额外再加上b"
   ],
   "id": "fca9b0f108b00fc9"
  },
  {
   "metadata": {
    "ExecuteTime": {
     "end_time": "2025-09-13T07:13:24.878835Z",
     "start_time": "2025-09-13T07:13:24.877011Z"
    }
   },
   "cell_type": "code",
   "source": [
    "import  numpy as np\n",
    "import pandas as pd\n",
    "import matplotlib.pyplot as plt\n",
    "from pyparsing import alphanums"
   ],
   "id": "a55d485e7fab7551",
   "outputs": [],
   "execution_count": 13
  },
  {
   "metadata": {},
   "cell_type": "markdown",
   "source": "导入数据集，要把包含训练数据的文件和这个代码文件放在同一目录下，否则就需要用绝对路径访问代码",
   "id": "1d35275be2145011"
  },
  {
   "metadata": {
    "ExecuteTime": {
     "end_time": "2025-09-13T07:13:26.649026Z",
     "start_time": "2025-09-13T07:13:26.643184Z"
    }
   },
   "cell_type": "code",
   "source": [
    "path = 'exldatal.txt'\n",
    "data = pd.read_csv(path,header=None,names=['Population','Profit'])#csv相当于将读取出的数据作为表格\n",
    "data.head()#打印(预览一下读出来的数据)"
   ],
   "id": "457674c4d651cc7a",
   "outputs": [
    {
     "data": {
      "text/plain": [
       "   Population   Profit\n",
       "0      6.1101  17.5920\n",
       "1      5.5277   9.1302\n",
       "2      8.5186  13.6620\n",
       "3      7.0032  11.8540\n",
       "4      5.8598   6.8233"
      ],
      "text/html": [
       "<div>\n",
       "<style scoped>\n",
       "    .dataframe tbody tr th:only-of-type {\n",
       "        vertical-align: middle;\n",
       "    }\n",
       "\n",
       "    .dataframe tbody tr th {\n",
       "        vertical-align: top;\n",
       "    }\n",
       "\n",
       "    .dataframe thead th {\n",
       "        text-align: right;\n",
       "    }\n",
       "</style>\n",
       "<table border=\"1\" class=\"dataframe\">\n",
       "  <thead>\n",
       "    <tr style=\"text-align: right;\">\n",
       "      <th></th>\n",
       "      <th>Population</th>\n",
       "      <th>Profit</th>\n",
       "    </tr>\n",
       "  </thead>\n",
       "  <tbody>\n",
       "    <tr>\n",
       "      <th>0</th>\n",
       "      <td>6.1101</td>\n",
       "      <td>17.5920</td>\n",
       "    </tr>\n",
       "    <tr>\n",
       "      <th>1</th>\n",
       "      <td>5.5277</td>\n",
       "      <td>9.1302</td>\n",
       "    </tr>\n",
       "    <tr>\n",
       "      <th>2</th>\n",
       "      <td>8.5186</td>\n",
       "      <td>13.6620</td>\n",
       "    </tr>\n",
       "    <tr>\n",
       "      <th>3</th>\n",
       "      <td>7.0032</td>\n",
       "      <td>11.8540</td>\n",
       "    </tr>\n",
       "    <tr>\n",
       "      <th>4</th>\n",
       "      <td>5.8598</td>\n",
       "      <td>6.8233</td>\n",
       "    </tr>\n",
       "  </tbody>\n",
       "</table>\n",
       "</div>"
      ]
     },
     "execution_count": 14,
     "metadata": {},
     "output_type": "execute_result"
    }
   ],
   "execution_count": 14
  },
  {
   "metadata": {},
   "cell_type": "markdown",
   "source": "对于数据数据，结果里的索引将包括计数，平均值，标准差，最小值，最大值以及较低的百分位数50。默认情况下，较低的百分位数为25,较高的百分位数为75。50百分位数与中位数相同",
   "id": "c5896c7f902fd6c4"
  },
  {
   "metadata": {
    "ExecuteTime": {
     "end_time": "2025-09-13T07:13:28.694820Z",
     "start_time": "2025-09-13T07:13:28.688475Z"
    }
   },
   "cell_type": "code",
   "source": "data.describe()",
   "id": "d5f9850df481429b",
   "outputs": [
    {
     "data": {
      "text/plain": [
       "       Population     Profit\n",
       "count   97.000000  97.000000\n",
       "mean     8.159800   5.839135\n",
       "std      3.869884   5.510262\n",
       "min      5.026900  -2.680700\n",
       "25%      5.707700   1.986900\n",
       "50%      6.589400   4.562300\n",
       "75%      8.578100   7.046700\n",
       "max     22.203000  24.147000"
      ],
      "text/html": [
       "<div>\n",
       "<style scoped>\n",
       "    .dataframe tbody tr th:only-of-type {\n",
       "        vertical-align: middle;\n",
       "    }\n",
       "\n",
       "    .dataframe tbody tr th {\n",
       "        vertical-align: top;\n",
       "    }\n",
       "\n",
       "    .dataframe thead th {\n",
       "        text-align: right;\n",
       "    }\n",
       "</style>\n",
       "<table border=\"1\" class=\"dataframe\">\n",
       "  <thead>\n",
       "    <tr style=\"text-align: right;\">\n",
       "      <th></th>\n",
       "      <th>Population</th>\n",
       "      <th>Profit</th>\n",
       "    </tr>\n",
       "  </thead>\n",
       "  <tbody>\n",
       "    <tr>\n",
       "      <th>count</th>\n",
       "      <td>97.000000</td>\n",
       "      <td>97.000000</td>\n",
       "    </tr>\n",
       "    <tr>\n",
       "      <th>mean</th>\n",
       "      <td>8.159800</td>\n",
       "      <td>5.839135</td>\n",
       "    </tr>\n",
       "    <tr>\n",
       "      <th>std</th>\n",
       "      <td>3.869884</td>\n",
       "      <td>5.510262</td>\n",
       "    </tr>\n",
       "    <tr>\n",
       "      <th>min</th>\n",
       "      <td>5.026900</td>\n",
       "      <td>-2.680700</td>\n",
       "    </tr>\n",
       "    <tr>\n",
       "      <th>25%</th>\n",
       "      <td>5.707700</td>\n",
       "      <td>1.986900</td>\n",
       "    </tr>\n",
       "    <tr>\n",
       "      <th>50%</th>\n",
       "      <td>6.589400</td>\n",
       "      <td>4.562300</td>\n",
       "    </tr>\n",
       "    <tr>\n",
       "      <th>75%</th>\n",
       "      <td>8.578100</td>\n",
       "      <td>7.046700</td>\n",
       "    </tr>\n",
       "    <tr>\n",
       "      <th>max</th>\n",
       "      <td>22.203000</td>\n",
       "      <td>24.147000</td>\n",
       "    </tr>\n",
       "  </tbody>\n",
       "</table>\n",
       "</div>"
      ]
     },
     "execution_count": 15,
     "metadata": {},
     "output_type": "execute_result"
    }
   ],
   "execution_count": 15
  },
  {
   "metadata": {},
   "cell_type": "markdown",
   "source": "数据可视化，绘制散点图kind:取值为line或scatter,后者为默认值图像大小.",
   "id": "d820a44d73a50d7"
  },
  {
   "metadata": {
    "ExecuteTime": {
     "end_time": "2025-09-13T07:13:31.412988Z",
     "start_time": "2025-09-13T07:13:31.344108Z"
    }
   },
   "cell_type": "code",
   "source": [
    "data.plot(kind='scatter',x='Population',y='Profit',figsize=(12,8))#可视化，把数据画出来\n",
    "plt.show()"
   ],
   "id": "d52817d67ea1b343",
   "outputs": [
    {
     "data": {
      "text/plain": [
       "<Figure size 1200x800 with 1 Axes>"
      ],
      "image/png": "[encoded data removed]"
     },
     "metadata": {},
     "output_type": "display_data"
    }
   ],
   "execution_count": 16
  },
  {
   "metadata": {},
   "cell_type": "markdown",
   "source": "然后使用梯度下将来实现线性回归，首先要先创建一个以参数为特函数的代价函数，与开头说的类似，为了统一，插入一列为1",
   "id": "219c2603c07e5ddd"
  },
  {
   "metadata": {
    "ExecuteTime": {
     "end_time": "2025-09-13T07:24:54.581998Z",
     "start_time": "2025-09-13T07:24:54.576850Z"
    }
   },
   "cell_type": "code",
   "source": [
    "data.insert(0,'ONES',1)#参数为 下标 名称 插入的数据\n",
    "data.head()"
   ],
   "id": "9e96f63c7a686348",
   "outputs": [
    {
     "data": {
      "text/plain": [
       "   ONES  Population   Profit\n",
       "0     1      6.1101  17.5920\n",
       "1     1      5.5277   9.1302\n",
       "2     1      8.5186  13.6620\n",
       "3     1      7.0032  11.8540\n",
       "4     1      5.8598   6.8233"
      ],
      "text/html": [
       "<div>\n",
       "<style scoped>\n",
       "    .dataframe tbody tr th:only-of-type {\n",
       "        vertical-align: middle;\n",
       "    }\n",
       "\n",
       "    .dataframe tbody tr th {\n",
       "        vertical-align: top;\n",
       "    }\n",
       "\n",
       "    .dataframe thead th {\n",
       "        text-align: right;\n",
       "    }\n",
       "</style>\n",
       "<table border=\"1\" class=\"dataframe\">\n",
       "  <thead>\n",
       "    <tr style=\"text-align: right;\">\n",
       "      <th></th>\n",
       "      <th>ONES</th>\n",
       "      <th>Population</th>\n",
       "      <th>Profit</th>\n",
       "    </tr>\n",
       "  </thead>\n",
       "  <tbody>\n",
       "    <tr>\n",
       "      <th>0</th>\n",
       "      <td>1</td>\n",
       "      <td>6.1101</td>\n",
       "      <td>17.5920</td>\n",
       "    </tr>\n",
       "    <tr>\n",
       "      <th>1</th>\n",
       "      <td>1</td>\n",
       "      <td>5.5277</td>\n",
       "      <td>9.1302</td>\n",
       "    </tr>\n",
       "    <tr>\n",
       "      <th>2</th>\n",
       "      <td>1</td>\n",
       "      <td>8.5186</td>\n",
       "      <td>13.6620</td>\n",
       "    </tr>\n",
       "    <tr>\n",
       "      <th>3</th>\n",
       "      <td>1</td>\n",
       "      <td>7.0032</td>\n",
       "      <td>11.8540</td>\n",
       "    </tr>\n",
       "    <tr>\n",
       "      <th>4</th>\n",
       "      <td>1</td>\n",
       "      <td>5.8598</td>\n",
       "      <td>6.8233</td>\n",
       "    </tr>\n",
       "  </tbody>\n",
       "</table>\n",
       "</div>"
      ]
     },
     "execution_count": 17,
     "metadata": {},
     "output_type": "execute_result"
    }
   ],
   "execution_count": 17
  },
  {
   "metadata": {},
   "cell_type": "markdown",
   "source": "接下来写一个函数，来实现代价函数的计算，也就是cost函数",
   "id": "a28a8468c6e0bdb4"
  },
  {
   "metadata": {
    "ExecuteTime": {
     "end_time": "2025-09-13T07:47:41.144145Z",
     "start_time": "2025-09-13T07:47:41.142264Z"
    }
   },
   "cell_type": "code",
   "source": [
    "def compute_cost(X,y,theta):#theta就是那个参数\n",
    "    inner = np.power(((X*theta.T)-y),2)#就是计算[(wx-b) - y]的平方\n",
    "    return np.sum(inner)/(2*len(X))#SUM是把矩阵上的元素都进行求和"
   ],
   "id": "e0c5aa2b5ab7cece",
   "outputs": [],
   "execution_count": 30
  },
  {
   "metadata": {},
   "cell_type": "markdown",
   "source": [
    "现在来做变量初始化，shape[0]为第一维的长度（行数），shape[1]为第二维的长度（列数），在pandas库中利用iloc选取数据\n",
    "“，”前面表示你要抽取哪些行，“，”后面表示你想要抽取哪些列，如果逗号前面就是两个冒号，那就表示抽取所有的行，如果不取所有的行和列，那就是使用冒号，比如要取3～5行和4～7列，那么就应该写成data.iloc(3:6,6:8)这样的形式，但是同样也遵守python中左闭右开的形式，所有右边多加了1"
   ],
   "id": "36fbfa4b7f3dd513"
  },
  {
   "metadata": {
    "ExecuteTime": {
     "end_time": "2025-09-13T07:25:08.397437Z",
     "start_time": "2025-09-13T07:25:08.395184Z"
    }
   },
   "cell_type": "code",
   "source": [
    "cols = data.shape[1]#列数\n",
    "X = data.iloc[:,0:cols-1]#X是取所有行，去掉最后一类，也就是去掉最后一列的结果profit\n",
    "y = data.iloc[:,cols-1:cols]#y是取所有行，但是只取最后一列，也就是只分裂出结果profit"
   ],
   "id": "da27c917006136b9",
   "outputs": [],
   "execution_count": 19
  },
  {
   "metadata": {},
   "cell_type": "markdown",
   "source": "观察下X取出来的行是否正确,运行了可以看到此时X取出的就是前面两列，已经没有profit了",
   "id": "f825026df039f0f3"
  },
  {
   "metadata": {
    "ExecuteTime": {
     "end_time": "2025-09-13T07:25:11.284301Z",
     "start_time": "2025-09-13T07:25:11.279510Z"
    }
   },
   "cell_type": "code",
   "source": "X.head()",
   "id": "a32650cf446bc753",
   "outputs": [
    {
     "data": {
      "text/plain": [
       "   ONES  Population\n",
       "0     1      6.1101\n",
       "1     1      5.5277\n",
       "2     1      8.5186\n",
       "3     1      7.0032\n",
       "4     1      5.8598"
      ],
      "text/html": [
       "<div>\n",
       "<style scoped>\n",
       "    .dataframe tbody tr th:only-of-type {\n",
       "        vertical-align: middle;\n",
       "    }\n",
       "\n",
       "    .dataframe tbody tr th {\n",
       "        vertical-align: top;\n",
       "    }\n",
       "\n",
       "    .dataframe thead th {\n",
       "        text-align: right;\n",
       "    }\n",
       "</style>\n",
       "<table border=\"1\" class=\"dataframe\">\n",
       "  <thead>\n",
       "    <tr style=\"text-align: right;\">\n",
       "      <th></th>\n",
       "      <th>ONES</th>\n",
       "      <th>Population</th>\n",
       "    </tr>\n",
       "  </thead>\n",
       "  <tbody>\n",
       "    <tr>\n",
       "      <th>0</th>\n",
       "      <td>1</td>\n",
       "      <td>6.1101</td>\n",
       "    </tr>\n",
       "    <tr>\n",
       "      <th>1</th>\n",
       "      <td>1</td>\n",
       "      <td>5.5277</td>\n",
       "    </tr>\n",
       "    <tr>\n",
       "      <th>2</th>\n",
       "      <td>1</td>\n",
       "      <td>8.5186</td>\n",
       "    </tr>\n",
       "    <tr>\n",
       "      <th>3</th>\n",
       "      <td>1</td>\n",
       "      <td>7.0032</td>\n",
       "    </tr>\n",
       "    <tr>\n",
       "      <th>4</th>\n",
       "      <td>1</td>\n",
       "      <td>5.8598</td>\n",
       "    </tr>\n",
       "  </tbody>\n",
       "</table>\n",
       "</div>"
      ]
     },
     "execution_count": 20,
     "metadata": {},
     "output_type": "execute_result"
    }
   ],
   "execution_count": 20
  },
  {
   "metadata": {},
   "cell_type": "markdown",
   "source": "在检查一下Y是否分对了,运行下面代码可以看到y就是只有profit这一列",
   "id": "2e0ad8d9f322d0c8"
  },
  {
   "metadata": {
    "ExecuteTime": {
     "end_time": "2025-09-13T07:26:14.440486Z",
     "start_time": "2025-09-13T07:26:14.437094Z"
    }
   },
   "cell_type": "code",
   "source": "y.head()",
   "id": "166cac16dcec2425",
   "outputs": [
    {
     "data": {
      "text/plain": [
       "    Profit\n",
       "0  17.5920\n",
       "1   9.1302\n",
       "2  13.6620\n",
       "3  11.8540\n",
       "4   6.8233"
      ],
      "text/html": [
       "<div>\n",
       "<style scoped>\n",
       "    .dataframe tbody tr th:only-of-type {\n",
       "        vertical-align: middle;\n",
       "    }\n",
       "\n",
       "    .dataframe tbody tr th {\n",
       "        vertical-align: top;\n",
       "    }\n",
       "\n",
       "    .dataframe thead th {\n",
       "        text-align: right;\n",
       "    }\n",
       "</style>\n",
       "<table border=\"1\" class=\"dataframe\">\n",
       "  <thead>\n",
       "    <tr style=\"text-align: right;\">\n",
       "      <th></th>\n",
       "      <th>Profit</th>\n",
       "    </tr>\n",
       "  </thead>\n",
       "  <tbody>\n",
       "    <tr>\n",
       "      <th>0</th>\n",
       "      <td>17.5920</td>\n",
       "    </tr>\n",
       "    <tr>\n",
       "      <th>1</th>\n",
       "      <td>9.1302</td>\n",
       "    </tr>\n",
       "    <tr>\n",
       "      <th>2</th>\n",
       "      <td>13.6620</td>\n",
       "    </tr>\n",
       "    <tr>\n",
       "      <th>3</th>\n",
       "      <td>11.8540</td>\n",
       "    </tr>\n",
       "    <tr>\n",
       "      <th>4</th>\n",
       "      <td>6.8233</td>\n",
       "    </tr>\n",
       "  </tbody>\n",
       "</table>\n",
       "</div>"
      ]
     },
     "execution_count": 21,
     "metadata": {},
     "output_type": "execute_result"
    }
   ],
   "execution_count": 21
  },
  {
   "metadata": {},
   "cell_type": "markdown",
   "source": "代价函数应该是numpy矩阵，所以要先对X和y进行转换，然后才能使用他们，我们还要初始化参数theta,即把所有theta先初始化为0,因为此时写的是单变量线性回归，所以只有一个X1,但是运算要进行的是wx - b,所以参数theta其实是一个包含w,b的（1*2）的行矩阵",
   "id": "10e32dc342fba450"
  },
  {
   "metadata": {
    "ExecuteTime": {
     "end_time": "2025-09-13T07:37:38.630922Z",
     "start_time": "2025-09-13T07:37:38.628526Z"
    }
   },
   "cell_type": "code",
   "source": [
    "X = np.matrix(X.values)\n",
    "y = np.matrix(y.values)\n",
    "theta = np.matrix(np.array([0,0]))#将这个数组array[0,0]，强制变换成一个1*2的矩阵"
   ],
   "id": "d0574cb2dfe69f1e",
   "outputs": [],
   "execution_count": 22
  },
  {
   "metadata": {
    "ExecuteTime": {
     "end_time": "2025-09-13T07:38:17.380371Z",
     "start_time": "2025-09-13T07:38:17.377819Z"
    }
   },
   "cell_type": "code",
   "source": [
    "print(X.shape)\n",
    "print(y.shape)\n",
    "print(theta.shape)"
   ],
   "id": "9a11957e8f327309",
   "outputs": [
    {
     "name": "stdout",
     "output_type": "stream",
     "text": [
      "(97, 2)\n",
      "(97, 1)\n",
      "(1, 2)\n"
     ]
    }
   ],
   "execution_count": 25
  },
  {
   "metadata": {
    "ExecuteTime": {
     "end_time": "2025-09-13T08:20:27.515540Z",
     "start_time": "2025-09-13T08:20:27.512965Z"
    }
   },
   "cell_type": "code",
   "source": [
    "cost = compute_cost(X,y,theta)\n",
    "print(cost)"
   ],
   "id": "511b823845e70c9a",
   "outputs": [
    {
     "name": "stdout",
     "output_type": "stream",
     "text": [
      "32.072733877455676\n"
     ]
    }
   ],
   "execution_count": 33
  },
  {
   "metadata": {},
   "cell_type": "markdown",
   "source": "### **下面就是使用梯度下降来修改theta,让cost函数趋于0,从而使得有一条直线能够拟合数据**",
   "id": "918179a8413e3bf0"
  },
  {
   "metadata": {},
   "cell_type": "markdown",
   "source": [
    "首先计算一下J分别对w和b的偏导数就可以知道，对w的偏导数就是 (1/n)*残差*xi,对y的偏导就是 (1/n)*残差\n",
    "更新参数的方程就是：theta(new) = theta(old) - a(学习率)*J对theta的偏导数，由此就可以写出梯度下降的步骤"
   ],
   "id": "1d137b1b2182900a"
  },
  {
   "metadata": {
    "ExecuteTime": {
     "end_time": "2025-09-13T08:22:12.185583Z",
     "start_time": "2025-09-13T08:22:12.182604Z"
    }
   },
   "cell_type": "code",
   "source": [
    "def gredience(X,Y,theta,times,alpha):#times是迭代次数,alpha是学习率\n",
    "    temp = np.matrix(np.zeros(theta.shape))#用于临时存储更新后的参数，最终修改的结果要通过它放入theta中\n",
    "    param = int(theta.shape[1])#reval()计算需要求解的参数个数，作用是将多维降至一维\n",
    "    cost = np.zeros(times)#创造和迭代次数一样多列数的一个0数组，存放每次迭代后的cost函数值\n",
    "    for i in range(times):\n",
    "        #先计算残差\n",
    "        error = (X*theta.T)-y\n",
    "        for j in range(param):\n",
    "            #现在来逐个更新参数\n",
    "            term = np.multiply(error,X[:,j])\n",
    "            temp[0,j] = theta[0,j] - ((alpha/len(X))*np.sum(term))\n",
    "        #现在就把一次参数更新后的新参数传入给theta覆盖旧的参数，然后再计算在新参数下的cost(损失函数的值的变化)\n",
    "        theta = temp\n",
    "        cost[i] = compute_cost(X,y,theta)\n",
    "\n",
    "    return theta,cost"
   ],
   "id": "2b994b1f80ef3c11",
   "outputs": [],
   "execution_count": 38
  },
  {
   "metadata": {},
   "cell_type": "markdown",
   "source": "初始化一些附加变量，比如学习率alpha,迭代次数times",
   "id": "c4145be08f7a11ed"
  },
  {
   "metadata": {
    "ExecuteTime": {
     "end_time": "2025-09-13T08:49:22.322180Z",
     "start_time": "2025-09-13T08:49:22.320530Z"
    }
   },
   "cell_type": "code",
   "source": [
    "alpha = 0.01\n",
    "times = 1100"
   ],
   "id": "709038e418108cbf",
   "outputs": [],
   "execution_count": 49
  },
  {
   "metadata": {
    "ExecuteTime": {
     "end_time": "2025-09-13T08:49:45.873689Z",
     "start_time": "2025-09-13T08:49:45.840264Z"
    }
   },
   "cell_type": "code",
   "source": [
    "newThere,cost = gredience(X, y, theta, times, alpha)\n",
    "print(newThere)\n",
    "print(cost)"
   ],
   "id": "9512e6492b417c66",
   "outputs": [
    {
     "name": "stdout",
     "output_type": "stream",
     "text": [
      "[[-3.34942856  1.13814663]]\n",
      "[6.73719046 5.93159357 5.90115471 ... 4.50434355 4.50424496 4.50414672]\n"
     ]
    }
   ],
   "execution_count": 52
  },
  {
   "metadata": {
    "ExecuteTime": {
     "end_time": "2025-09-13T08:49:47.960444Z",
     "start_time": "2025-09-13T08:49:47.957742Z"
    }
   },
   "cell_type": "code",
   "source": [
    "new_cost = compute_cost(X,y,newThere)\n",
    "print(new_cost)"
   ],
   "id": "86b90e58a36443f6",
   "outputs": [
    {
     "name": "stdout",
     "output_type": "stream",
     "text": [
      "4.504146719537086\n"
     ]
    }
   ],
   "execution_count": 53
  },
  {
   "metadata": {},
   "cell_type": "markdown",
   "source": "然后就是把线性模型和数据绘制出来",
   "id": "2298611fc0337b28"
  },
  {
   "metadata": {
    "ExecuteTime": {
     "end_time": "2025-09-13T08:49:50.191722Z",
     "start_time": "2025-09-13T08:49:50.102731Z"
    }
   },
   "cell_type": "code",
   "source": [
    "x = np.linspace(data.Population.max(),data.Population.min(),100)#抽样范围为dta数据中population那一栏的最大值到最小值之间，抽取100个样本\n",
    "#定义一个类似于函数表达式的东西\n",
    "f = newThere[0,0] + (newThere[0,1]*x)#就是函数表达式 y = b + w * x\n",
    "\n",
    "fig,ax = plt.subplots(figsize = (12,8))#创建一个12*8的画布，并生成一个单独的子图，fig是存储画布的对象，而ax是存储子图的对象\n",
    "ax.plot(x,f,'r',label = 'Prediction')#这是子图（arex）的方法，用于在子图上绘制折线图，传入x,y轴的数据，然后规定折线颜色和这条折线的图例标签\n",
    "ax.scatter(data.Population,data.Profit,label = 'Training Data')#在子图上绘制散点图，传入每个点的X,Y轴坐标，然后给这些点规定图例标签\n",
    "ax.legend(loc = 4)#在右下角设置标签\n",
    "ax.set_xlabel('Population')\n",
    "ax.set_ylabel('Profit')\n",
    "ax.set_title('Predict profit size vs population')\n",
    "plt.show()"
   ],
   "id": "5ba3294264ece3c5",
   "outputs": [
    {
     "data": {
      "text/plain": [
       "<Figure size 1200x800 with 1 Axes>"
      ],
      "image/png": "[encoded data removed]"
     },
     "metadata": {},
     "output_type": "display_data"
    }
   ],
   "execution_count": 54
  },
  {
   "metadata": {},
   "cell_type": "markdown",
   "source": "下面也可以把损失函数的迭代曲线给画出来",
   "id": "6d394847191b2a99"
  },
  {
   "metadata": {
    "ExecuteTime": {
     "end_time": "2025-09-13T08:49:53.437092Z",
     "start_time": "2025-09-13T08:49:53.369258Z"
    }
   },
   "cell_type": "code",
   "source": [
    "fig,ax = plt.subplots(figsize = (12,8))\n",
    "ax.plot(np.arange(times),cost,'r',label = 'Cost')\n",
    "ax.set_xlabel('Times')\n",
    "ax.set_ylabel('Cost')\n",
    "ax.set_title('Cost vs Times')\n",
    "plt.show()"
   ],
   "id": "d2e46ad754b9549e",
   "outputs": [
    {
     "data": {
      "text/plain": [
       "<Figure size 1200x800 with 1 Axes>"
      ],
      "image/png": "[encoded data removed]"
     },
     "metadata": {},
     "output_type": "display_data"
    }
   ],
   "execution_count": 55
  }
 ],
 "metadata": {
  "kernelspec": {
   "display_name": "Python 3",
   "language": "python",
   "name": "python3"
  },
  "language_info": {
   "codemirror_mode": {
    "name": "ipython",
    "version": 2
   },
   "file_extension": ".py",
   "mimetype": "text/x-python",
   "name": "python",
   "nbconvert_exporter": "python",
   "pygments_lexer": "ipython2",
   "version": "2.7.6"
  }
 },
 "nbformat": 4,
 "nbformat_minor": 5
}
